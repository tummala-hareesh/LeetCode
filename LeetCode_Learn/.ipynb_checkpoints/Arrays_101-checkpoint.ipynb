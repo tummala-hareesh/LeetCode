{
 "cells": [
  {
   "cell_type": "markdown",
   "metadata": {},
   "source": [
    "# Reflections of Arrays 101 "
   ]
  },
  {
   "cell_type": "markdown",
   "metadata": {},
   "source": [
    "## **Array**\n",
    "- Collection of items. \n",
    "- Items are stored in neighboring (contiguous) memory locations. \n",
    "- Stored together and checking through the entire collection of items is straightforward.\n",
    "- Two most primitive array operations: \n",
    "    - Writing elements into an array\n",
    "    - Reading elements from an array\n",
    "- Array capacity vs length\n",
    "- "
   ]
  },
  {
   "cell_type": "markdown",
   "metadata": {},
   "source": [
    "***"
   ]
  },
  {
   "cell_type": "markdown",
   "metadata": {},
   "source": [
    "## **Implementing Arrays**\n"
   ]
  },
  {
   "cell_type": "code",
   "execution_count": 28,
   "metadata": {},
   "outputs": [],
   "source": [
    "class DVD:\n",
    "    \"\"\"DVD Class as an example of creating an array\"\"\"\n",
    "    \n",
    "    def __init__(self, name, releasedYear, director):\n",
    "        self.name = name\n",
    "        self.releasedYear = releasedYear\n",
    "        self.director = director\n",
    "    \n",
    "    def __repr__(self):\n",
    "        return \"[DEBUG] Class: DVD\\n - name: {}\\n - releasedYear: {}\\n - director: {}\".format(self.name, self.releasedYear, self.director)\n",
    "    \n",
    "    def __str__(self):\n",
    "        return \"Class: DVD\\n - name: {}\\n - releasedYear: {}\\n - director: {}\".format(self.name, self.releasedYear, self.director)\n"
   ]
  },
  {
   "cell_type": "code",
   "execution_count": 36,
   "metadata": {},
   "outputs": [
    {
     "name": "stdout",
     "output_type": "stream",
     "text": [
      "Class: DVD\n",
      " - name: newEntry\n",
      " - releasedYear: 2021\n",
      " - director: Why not?\n"
     ]
    }
   ],
   "source": [
    "# Create an array of DVDs\n",
    "\n",
    "list_dvd = [None] * 5\n",
    "for dvd_count in range(4):\n",
    "    list_dvd[dvd_count] = DVD('HT', 2020-dvd_count, 'GoodWill')\n",
    "    \n",
    "# Write elements into an array - 5th element\n",
    "list_dvd[4] = DVD('newEntry', 2021,'Why not?')\n",
    "\n",
    "\n",
    "# Reading elements from an array\n",
    "print(list_dvd[4])"
   ]
  },
  {
   "cell_type": "markdown",
   "metadata": {},
   "source": [
    "***"
   ]
  },
  {
   "cell_type": "markdown",
   "metadata": {},
   "source": [
    "## **Practise Ground**"
   ]
  },
  {
   "cell_type": "markdown",
   "metadata": {},
   "source": [
    "### 1. Max Consecutive Ones"
   ]
  },
  {
   "cell_type": "code",
   "execution_count": 43,
   "metadata": {},
   "outputs": [],
   "source": [
    "class Solution:\n",
    "    def __init__(self, nums):\n",
    "        self.nums = nums\n",
    "        \n",
    "    def findMaxConsecutiveOnes(self):\n",
    "        list_ones_counter = []\n",
    "        counter = 0\n",
    "        for i, inum in enumerate(self.nums):\n",
    "            if (inum == 1 and i != len(self.nums)-1):\n",
    "                counter += 1\n",
    "            if (inum == 1 and i == len(self.nums)-1):\n",
    "                counter += 1\n",
    "                list_ones_counter.append(counter)\n",
    "            elif (inum == 0):\n",
    "                list_ones_counter.append(counter)\n",
    "                counter = 0 \n",
    "\n",
    "        if list_ones_counter is None:\n",
    "            return 0\n",
    "        else:\n",
    "            return max(list_ones_counter)"
   ]
  },
  {
   "cell_type": "code",
   "execution_count": 44,
   "metadata": {},
   "outputs": [
    {
     "name": "stdout",
     "output_type": "stream",
     "text": [
      "2\n"
     ]
    }
   ],
   "source": [
    "# Print out Max. Consecutive Ones in an array\n",
    "sol = Solution([1,0,1,1,0,1])\n",
    "print(sol.findMaxConsecutiveOnes())"
   ]
  },
  {
   "cell_type": "markdown",
   "metadata": {},
   "source": [
    "### 2. Find Numbers with Even Number of Digits\n",
    "- How to write optimal code?"
   ]
  },
  {
   "cell_type": "code",
   "execution_count": 70,
   "metadata": {},
   "outputs": [],
   "source": [
    "# Non-Optimal solution\n",
    "class Solution:\n",
    "    def __init__(self, nums):\n",
    "        self.nums = nums\n",
    "        \n",
    "    def findNumbers(self):\n",
    "        counter = 0\n",
    "        for inum in self.nums:\n",
    "            if (len(str(inum)) % 2 == 0):\n",
    "                counter += 1\n",
    "        return counter"
   ]
  },
  {
   "cell_type": "code",
   "execution_count": null,
   "metadata": {},
   "outputs": [],
   "source": [
    "# Optimal solution\n",
    "# class Solution2:\n",
    "#     def __init__(self, nums):\n",
    "#         self.nums = nums\n",
    "        \n",
    "#     def findNumbers(self):\n",
    "#         counter = 0\n",
    "#         for inum in self.nums:\n",
    "#             if (len(str(inum)) % 2 == 0):\n",
    "#                 counter += 1\n",
    "#         return counter"
   ]
  },
  {
   "cell_type": "code",
   "execution_count": 71,
   "metadata": {},
   "outputs": [
    {
     "name": "stdout",
     "output_type": "stream",
     "text": [
      "2\n"
     ]
    }
   ],
   "source": [
    "sol = Solution([12,345,2,6,7896])\n",
    "print(sol.findNumbers())"
   ]
  },
  {
   "cell_type": "markdown",
   "metadata": {},
   "source": [
    "### 3. Squares of a Sorted Array"
   ]
  },
  {
   "cell_type": "code",
   "execution_count": 74,
   "metadata": {},
   "outputs": [],
   "source": [
    "# Non-Optimal Solution - O(n log n)\n",
    "class Solution:\n",
    "    def sortedSquares(self, nums):\n",
    "        nums_sq = [i**2 for i in nums]\n",
    "        return sorted(nums_sq)        "
   ]
  },
  {
   "cell_type": "code",
   "execution_count": 84,
   "metadata": {},
   "outputs": [],
   "source": [
    "# Optimal Solution - O(n)\n",
    "class Solution2:\n",
    "    def __init__(self, nums):\n",
    "        self.nums = nums\n",
    "\n",
    "    def sortedSquares(self):\n",
    "        len_nums = len(self.nums) - 1\n",
    "        result = [0 for i in self.nums]\n",
    "        \n",
    " "
   ]
  },
  {
   "cell_type": "code",
   "execution_count": 85,
   "metadata": {},
   "outputs": [
    {
     "name": "stdout",
     "output_type": "stream",
     "text": [
      "[-4, -1] [0, 3, 10]\n"
     ]
    }
   ],
   "source": [
    "sol = Solution2([-4,-1,0,3,10])\n",
    "sol.sortedSquares()"
   ]
  },
  {
   "cell_type": "code",
   "execution_count": null,
   "metadata": {},
   "outputs": [],
   "source": []
  },
  {
   "cell_type": "code",
   "execution_count": null,
   "metadata": {},
   "outputs": [],
   "source": []
  }
 ],
 "metadata": {
  "kernelspec": {
   "display_name": "Python 3",
   "language": "python",
   "name": "python3"
  },
  "language_info": {
   "codemirror_mode": {
    "name": "ipython",
    "version": 3
   },
   "file_extension": ".py",
   "mimetype": "text/x-python",
   "name": "python",
   "nbconvert_exporter": "python",
   "pygments_lexer": "ipython3",
   "version": "3.8.5"
  }
 },
 "nbformat": 4,
 "nbformat_minor": 4
}
