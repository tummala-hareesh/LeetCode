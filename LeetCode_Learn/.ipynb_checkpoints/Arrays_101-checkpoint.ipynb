{
 "cells": [
  {
   "cell_type": "markdown",
   "metadata": {},
   "source": [
    "# Reflections of Arrays 101 "
   ]
  },
  {
   "cell_type": "markdown",
   "metadata": {},
   "source": [
    "## **Array**\n",
    "- Collection of items. \n",
    "- Items are stored in neighboring (contiguous) memory locations. \n",
    "- Stored together and checking through the entire collection of items is straightforward."
   ]
  },
  {
   "cell_type": "code",
   "execution_count": null,
   "metadata": {},
   "outputs": [],
   "source": []
  },
  {
   "cell_type": "code",
   "execution_count": 28,
   "metadata": {},
   "outputs": [],
   "source": [
    "class DVD:\n",
    "    \"\"\"DVD Class as an example of creating an array\"\"\"\n",
    "    \n",
    "    def __init__(self, name, releasedYear, director):\n",
    "        self.name = name\n",
    "        self.releasedYear = releasedYear\n",
    "        self.director = director\n",
    "    \n",
    "    def __repr__(self):\n",
    "        return \"[DEBUG] Class: DVD\\n - name: {}\\n - releasedYear: {}\\n - director: {}\".format(self.name, self.releasedYear, self.director)\n",
    "    \n",
    "    def __str__(self):\n",
    "        return \"Class: DVD\\n - name: {}\\n - releasedYear: {}\\n - director: {}\".format(self.name, self.releasedYear, self.director)\n"
   ]
  },
  {
   "cell_type": "code",
   "execution_count": 30,
   "metadata": {},
   "outputs": [
    {
     "name": "stdout",
     "output_type": "stream",
     "text": [
      "Class: DVD\n",
      " - name: HT\n",
      " - releasedYear: 2020\n",
      " - director: GoodWill\n",
      "Class: DVD\n",
      " - name: HT\n",
      " - releasedYear: 2019\n",
      " - director: GoodWill\n",
      "Class: DVD\n",
      " - name: HT\n",
      " - releasedYear: 2018\n",
      " - director: GoodWill\n",
      "Class: DVD\n",
      " - name: HT\n",
      " - releasedYear: 2017\n",
      " - director: GoodWill\n"
     ]
    }
   ],
   "source": [
    "# Create a list of 4 DVDs\n",
    "\n",
    "list_dvd = []\n",
    "for dvd_count in range(4):\n",
    "    list_dvd.append(DVD('HT', 2020-dvd_count, 'GoodWill'))\n",
    "    print(list_dvd[dvd_count])"
   ]
  },
  {
   "cell_type": "markdown",
   "metadata": {},
   "source": [
    "## **Properties of Arrays**\n"
   ]
  },
  {
   "cell_type": "markdown",
   "metadata": {},
   "source": [
    "## **Implementing of Array operations**\n"
   ]
  },
  {
   "cell_type": "markdown",
   "metadata": {},
   "source": [
    "## **Programming with Arrays**\n"
   ]
  },
  {
   "cell_type": "code",
   "execution_count": null,
   "metadata": {},
   "outputs": [],
   "source": []
  },
  {
   "cell_type": "code",
   "execution_count": null,
   "metadata": {},
   "outputs": [],
   "source": []
  },
  {
   "cell_type": "code",
   "execution_count": null,
   "metadata": {},
   "outputs": [],
   "source": []
  }
 ],
 "metadata": {
  "kernelspec": {
   "display_name": "Python 3",
   "language": "python",
   "name": "python3"
  },
  "language_info": {
   "codemirror_mode": {
    "name": "ipython",
    "version": 3
   },
   "file_extension": ".py",
   "mimetype": "text/x-python",
   "name": "python",
   "nbconvert_exporter": "python",
   "pygments_lexer": "ipython3",
   "version": "3.8.5"
  }
 },
 "nbformat": 4,
 "nbformat_minor": 4
}
